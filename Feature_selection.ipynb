{
 "cells": [
  {
   "cell_type": "code",
   "execution_count": 2,
   "metadata": {},
   "outputs": [],
   "source": [
    "path=  'C:/Users/felipe/Documents/Brain/'\n",
    "#import sys\n",
    "#sys.path.append(path) "
   ]
  },
  {
   "cell_type": "code",
   "execution_count": 3,
   "metadata": {},
   "outputs": [],
   "source": [
    "path_=  'C:/Users/felipe/Documents/Brain/Models/'\n",
    "import sys\n",
    "sys.path.append(path_) "
   ]
  },
  {
   "cell_type": "code",
   "execution_count": 4,
   "metadata": {},
   "outputs": [],
   "source": [
    "features = ['Alpha2_canon_EPP_HPC_left', 'Alpha2_canon_EPP_HPC_right', 'Alpha2_canon_EPP_PARIET_left', 'Alpha2_canon_EPP_PARIET_right', 'Alpha2_canon_EPP_OCC_left', 'Alpha2_canon_EPP_OCC_right', 'Alpha2_canon_RPD_HPC_left', 'Alpha2_canon_RPD_HPC_right', 'Alpha2_canon_RPD_CING_left', 'Alpha2_canon_RPD_CING_right', 'Alpha2_canon_RPD_PARIET_left', 'Alpha2_canon_RPD_PARIET_right', 'Alpha2_canon_RPD_OCC_left', 'Alpha2_canon_RPD_OCC_right', 'High_subj_spec_EPP_HPC_left', 'High_subj_spec_EPP_HPC_right', 'High_subj_spec_EPP_CING_left', 'High_subj_spec_EPP_CING_right', 'High_subj_spec_EPP_PARIET_left', 'High_subj_spec_EPP_PARIET_right', 'High_subj_spec_EPP_OCC_left', 'High_subj_spec_EPP_OCC_right', 'High_subj_spec_RPD_HPC_left', 'High_subj_spec_RPD_HPC_right', 'High_subj_spec_RPD_CING_left', 'High_subj_spec_RPD_CING_right', 'High_subj_spec_RPD_PARIET_left', 'High_subj_spec_RPD_PARIET_right', 'High_subj_spec_RPD_OCC_left', 'High_subj_spec_RPD_OCC_right', 'Low_subj_spec_EPP_HPC_left', 'Low_subj_spec_EPP_HPC_right', 'Low_subj_spec_EPP_CING_left', 'Low_subj_spec_EPP_CING_right', 'Low_subj_spec_EPP_PARIET_left', 'Low_subj_spec_EPP_PARIET_right', 'Low_subj_spec_EPP_OCC_left', 'Low_subj_spec_EPP_OCC_right', 'Low_subj_spec_RPD_HPC_left', 'Low_subj_spec_RPD_HPC_right', 'Low_subj_spec_RPD_CING_left', 'Low_subj_spec_RPD_CING_right', 'Low_subj_spec_RPD_PARIET_left', 'Low_subj_spec_RPD_PARIET_right', 'Low_subj_spec_RPD_OCC_left', 'Low_subj_spec_RPD_OCC_right', 'TF_ORB_left', 'TF_ORB_right', 'TF_IFG_left', 'TF_IFG_right', 'TF_MFG_left', 'TF_MFG_right', 'TF_SFG_left', 'TF_SFG_right', 'TF_HPC_left', 'TF_HPC_right', 'TF_INS_left', 'TF_INS_right', 'IAF_ORB_left', 'IAF_ORB_right', 'IAF_IFG_left', 'IAF_IFG_right', 'IAF_MFG_left', 'IAF_MFG_right', 'IAF_SFG_left', 'IAF_SFG_right', 'IAF_HPC_left', 'IAF_HPC_right', 'IAF_INS_left', 'IAF_INS_right', 'IAF_OCC_left', 'IAF_OCC_right']"
   ]
  },
  {
   "cell_type": "code",
   "execution_count": 5,
   "metadata": {},
   "outputs": [
    {
     "data": {
      "text/plain": [
       "72"
      ]
     },
     "execution_count": 5,
     "metadata": {},
     "output_type": "execute_result"
    }
   ],
   "source": [
    "len(features)"
   ]
  },
  {
   "cell_type": "code",
   "execution_count": 6,
   "metadata": {},
   "outputs": [],
   "source": [
    "import pandas as pd\n",
    "from sklearn.preprocessing import MinMaxScaler,StandardScaler\n",
    "\n",
    "file_path_CN = f'{path}Brain_Aging/CN_freq.xlsx'\n",
    "file_path_AD = f'{path}Brain_Aging/AD_freq.xlsx'\n",
    "file_path_FTD = f'{path}Brain_Aging/FTD_freq.xlsx'\n",
    "file_path_MCI = f'{path}Brain_Aging/MCI_freq.xlsx'\n",
    "file_path_PD = f'{path}Brain_Aging/PD_freq.xlsx'\n",
    "\n",
    "df_CN = pd.read_excel(file_path_CN)\n",
    "df_AD = pd.read_excel(file_path_AD)\n",
    "df_FTD = pd.read_excel(file_path_FTD)\n",
    "df_MCI = pd.read_excel(file_path_MCI)\n",
    "df_PD = pd.read_excel(file_path_PD)\n",
    "\n",
    "df_CN_filtrado = df_CN[(df_CN['Age'] >=50) & (df_CN['Age'] <= 90)].reset_index(drop=True)\n",
    "df_AD_filtrado = df_AD[(df_AD['Age'] >= 50) & (df_AD['Age'] <= 90)].reset_index(drop=True)\n",
    "df_FTD_filtrado = df_FTD[(df_FTD['Age'] >= 50) & (df_FTD['Age'] <= 90)].reset_index(drop=True)\n",
    "df_MCI_filtrado = df_MCI[(df_MCI['Age'] >= 50) & (df_MCI['Age'] <= 90)].reset_index(drop=True)\n",
    "df_PD_filtrado = df_PD[(df_PD['Age'] >= 50) & (df_PD['Age'] <= 90)].reset_index(drop=True)\n",
    "\n",
    "\n",
    "X_CN = df_CN_filtrado[features]\n",
    "y_CN = df_CN_filtrado[\"Age\"]\n",
    "ID_CN = df_CN_filtrado[\"ID-unique\"]\n",
    "\n",
    "X_AD = df_AD_filtrado[features]\n",
    "y_AD = df_AD_filtrado[\"Age\"]\n",
    "ID_AD = df_AD_filtrado[\"ID-unique\"]\n",
    "\n",
    "X_FTD = df_FTD_filtrado[features]\n",
    "y_FTD = df_FTD_filtrado[\"Age\"]\n",
    "ID_FTD = df_FTD_filtrado[\"ID-unique\"]\n",
    "\n",
    "X_MCI = df_MCI_filtrado[features]\n",
    "y_MCI = df_MCI_filtrado[\"Age\"]\n",
    "ID_MCI = df_MCI_filtrado[\"ID-unique\"]\n",
    "\n",
    "X_PD = df_PD_filtrado[features]\n",
    "y_PD = df_PD_filtrado[\"Age\"]\n",
    "ID_PD = df_PD_filtrado[\"ID-unique\"]\n",
    "\n",
    "\n",
    "X_combined = pd.concat([X_CN, X_AD, X_FTD, X_MCI, X_PD], axis=0).reset_index(drop=True)\n",
    "scaler = StandardScaler()\n",
    "scaler.fit(X_CN)\n",
    "\n",
    "X_CN_scaled = scaler.transform(X_CN)\n",
    "X_AD_scaled = scaler.transform(X_AD)\n",
    "X_FTD_scaled = scaler.transform(X_FTD)\n",
    "X_MCI_scaled = scaler.transform(X_MCI)\n",
    "X_PD_scaled = scaler.transform(X_PD)\n",
    "\n",
    "X_CN_scaled = pd.DataFrame(X_CN_scaled, columns=X_CN.columns)\n",
    "X_AD_scaled = pd.DataFrame(X_AD_scaled, columns=X_AD.columns)\n",
    "X_FTD_scaled = pd.DataFrame(X_FTD_scaled, columns=X_FTD.columns)\n",
    "X_MCI_scaled = pd.DataFrame(X_MCI_scaled, columns=X_MCI.columns)\n",
    "X_PD_scaled = pd.DataFrame(X_PD_scaled, columns=X_PD.columns)\n"
   ]
  },
  {
   "cell_type": "code",
   "execution_count": 53,
   "metadata": {},
   "outputs": [
    {
     "name": "stderr",
     "output_type": "stream",
     "text": [
      "C:\\Users\\felipe\\AppData\\Local\\Temp\\ipykernel_10992\\3021749062.py:28: FutureWarning: The behavior of DataFrame concatenation with empty or all-NA entries is deprecated. In a future version, this will no longer exclude empty or all-NA columns when determining the result dtypes. To retain the old behavior, exclude the relevant entries before the concat operation.\n",
      "  resultados = pd.concat([resultados, nueva_fila], ignore_index=True)\n"
     ]
    },
    {
     "name": "stdout",
     "output_type": "stream",
     "text": [
      "     Combinación                  Característica       p-valor\n",
      "0       CN vs AD       Alpha2_canon_EPP_HPC_left  5.732986e-10\n",
      "1       CN vs AD      Alpha2_canon_EPP_HPC_right  4.938511e-11\n",
      "2       CN vs AD    Alpha2_canon_EPP_PARIET_left  1.779073e-18\n",
      "3       CN vs AD   Alpha2_canon_EPP_PARIET_right  5.386808e-22\n",
      "4       CN vs AD       Alpha2_canon_EPP_OCC_left  2.336605e-12\n",
      "...          ...                             ...           ...\n",
      "1409   PD vs FTD    Low_subj_spec_RPD_CING_right  3.687934e-03\n",
      "1411   PD vs FTD  Low_subj_spec_RPD_PARIET_right  4.169733e-05\n",
      "1412   PD vs FTD      Low_subj_spec_RPD_OCC_left  6.619196e-03\n",
      "1413   PD vs FTD     Low_subj_spec_RPD_OCC_right  6.527789e-03\n",
      "1431   PD vs FTD                   IAF_MFG_right  2.918633e-02\n",
      "\n",
      "[836 rows x 3 columns]\n"
     ]
    }
   ],
   "source": [
    "from scipy.stats import ttest_ind\n",
    "import pandas as pd\n",
    "\n",
    "# Listado de combinaciones de dataframes\n",
    "dataframes = {'CN': X_CN, 'AD': X_AD, 'MCI': X_MCI, 'FTD': X_FTD, 'PD': X_PD}\n",
    "#dataframes = {'CN': X_CN_scaled, 'AD': X_AD_scaled, 'MCI': X_MCI_scaled, 'FTD': X_FTD_scaled, 'PD': X_PD_scaled}\n",
    "combinaciones = [(key1, key2) for key1 in dataframes.keys() for key2 in dataframes.keys() if key1 != key2]\n",
    "\n",
    "# DataFrame para almacenar resultados\n",
    "resultados = pd.DataFrame(columns=['Combinación', 'Característica', 'p-valor'])\n",
    "\n",
    "# Realizar la prueba t para cada combinación y cada característica\n",
    "for (grupo1, grupo2) in combinaciones:\n",
    "    df1 = dataframes[grupo1]\n",
    "    df2 = dataframes[grupo2]\n",
    "    \n",
    "    # Asegurarse de que ambos dataframes tengan las mismas columnas\n",
    "    assert df1.columns.equals(df2.columns), \"Las columnas no coinciden entre los grupos\"\n",
    "    \n",
    "    # Prueba t para cada característica\n",
    "    for columna in df1.columns:\n",
    "        stat, p_valor = ttest_ind(df1[columna], df2[columna], equal_var=False)  # Prueba t de dos muestras independientes\n",
    "        nueva_fila = pd.DataFrame({'Combinación': [f'{grupo1} vs {grupo2}'], \n",
    "                                   'Característica': [columna], \n",
    "                                   'p-valor': [p_valor]})\n",
    "        \n",
    "        # Concatenar la nueva fila al DataFrame de resultados\n",
    "        resultados = pd.concat([resultados, nueva_fila], ignore_index=True)\n",
    "\n",
    "# Filtrar las características más significativas\n",
    "umbral = 0.05\n",
    "caracteristicas_significativas = resultados[resultados['p-valor'] < umbral]\n",
    "\n",
    "# Mostrar los resultados\n",
    "print(caracteristicas_significativas)\n"
   ]
  },
  {
   "cell_type": "code",
   "execution_count": 54,
   "metadata": {},
   "outputs": [
    {
     "data": {
      "text/html": [
       "<div>\n",
       "<style scoped>\n",
       "    .dataframe tbody tr th:only-of-type {\n",
       "        vertical-align: middle;\n",
       "    }\n",
       "\n",
       "    .dataframe tbody tr th {\n",
       "        vertical-align: top;\n",
       "    }\n",
       "\n",
       "    .dataframe thead th {\n",
       "        text-align: right;\n",
       "    }\n",
       "</style>\n",
       "<table border=\"1\" class=\"dataframe\">\n",
       "  <thead>\n",
       "    <tr style=\"text-align: right;\">\n",
       "      <th></th>\n",
       "      <th>Combinación</th>\n",
       "      <th>Característica</th>\n",
       "      <th>p-valor</th>\n",
       "    </tr>\n",
       "  </thead>\n",
       "  <tbody>\n",
       "    <tr>\n",
       "      <th>0</th>\n",
       "      <td>CN vs AD</td>\n",
       "      <td>Alpha2_canon_EPP_HPC_left</td>\n",
       "      <td>5.732986e-10</td>\n",
       "    </tr>\n",
       "    <tr>\n",
       "      <th>1</th>\n",
       "      <td>CN vs AD</td>\n",
       "      <td>Alpha2_canon_EPP_HPC_right</td>\n",
       "      <td>4.938511e-11</td>\n",
       "    </tr>\n",
       "    <tr>\n",
       "      <th>2</th>\n",
       "      <td>CN vs AD</td>\n",
       "      <td>Alpha2_canon_EPP_PARIET_left</td>\n",
       "      <td>1.779073e-18</td>\n",
       "    </tr>\n",
       "    <tr>\n",
       "      <th>3</th>\n",
       "      <td>CN vs AD</td>\n",
       "      <td>Alpha2_canon_EPP_PARIET_right</td>\n",
       "      <td>5.386808e-22</td>\n",
       "    </tr>\n",
       "    <tr>\n",
       "      <th>4</th>\n",
       "      <td>CN vs AD</td>\n",
       "      <td>Alpha2_canon_EPP_OCC_left</td>\n",
       "      <td>2.336605e-12</td>\n",
       "    </tr>\n",
       "    <tr>\n",
       "      <th>...</th>\n",
       "      <td>...</td>\n",
       "      <td>...</td>\n",
       "      <td>...</td>\n",
       "    </tr>\n",
       "    <tr>\n",
       "      <th>1435</th>\n",
       "      <td>PD vs FTD</td>\n",
       "      <td>IAF_HPC_right</td>\n",
       "      <td>5.702922e-02</td>\n",
       "    </tr>\n",
       "    <tr>\n",
       "      <th>1436</th>\n",
       "      <td>PD vs FTD</td>\n",
       "      <td>IAF_INS_left</td>\n",
       "      <td>1.856684e-01</td>\n",
       "    </tr>\n",
       "    <tr>\n",
       "      <th>1437</th>\n",
       "      <td>PD vs FTD</td>\n",
       "      <td>IAF_INS_right</td>\n",
       "      <td>4.113532e-01</td>\n",
       "    </tr>\n",
       "    <tr>\n",
       "      <th>1438</th>\n",
       "      <td>PD vs FTD</td>\n",
       "      <td>IAF_OCC_left</td>\n",
       "      <td>1.008103e-01</td>\n",
       "    </tr>\n",
       "    <tr>\n",
       "      <th>1439</th>\n",
       "      <td>PD vs FTD</td>\n",
       "      <td>IAF_OCC_right</td>\n",
       "      <td>6.881249e-02</td>\n",
       "    </tr>\n",
       "  </tbody>\n",
       "</table>\n",
       "<p>1440 rows × 3 columns</p>\n",
       "</div>"
      ],
      "text/plain": [
       "     Combinación                 Característica       p-valor\n",
       "0       CN vs AD      Alpha2_canon_EPP_HPC_left  5.732986e-10\n",
       "1       CN vs AD     Alpha2_canon_EPP_HPC_right  4.938511e-11\n",
       "2       CN vs AD   Alpha2_canon_EPP_PARIET_left  1.779073e-18\n",
       "3       CN vs AD  Alpha2_canon_EPP_PARIET_right  5.386808e-22\n",
       "4       CN vs AD      Alpha2_canon_EPP_OCC_left  2.336605e-12\n",
       "...          ...                            ...           ...\n",
       "1435   PD vs FTD                  IAF_HPC_right  5.702922e-02\n",
       "1436   PD vs FTD                   IAF_INS_left  1.856684e-01\n",
       "1437   PD vs FTD                  IAF_INS_right  4.113532e-01\n",
       "1438   PD vs FTD                   IAF_OCC_left  1.008103e-01\n",
       "1439   PD vs FTD                  IAF_OCC_right  6.881249e-02\n",
       "\n",
       "[1440 rows x 3 columns]"
      ]
     },
     "execution_count": 54,
     "metadata": {},
     "output_type": "execute_result"
    }
   ],
   "source": [
    "resultados"
   ]
  },
  {
   "cell_type": "code",
   "execution_count": 55,
   "metadata": {},
   "outputs": [
    {
     "name": "stdout",
     "output_type": "stream",
     "text": [
      "Características significativas en todas las combinaciones: []\n"
     ]
    }
   ],
   "source": [
    "# Filtrar características con p-valores < 0.05 en todas las combinaciones\n",
    "caracteristicas_significativas = []\n",
    "\n",
    "# Iterar sobre cada característica\n",
    "for feature in features:\n",
    "    # Filtrar las filas correspondientes a la característica\n",
    "    p_values_feature = resultados[resultados['Característica'] == feature]['p-valor']\n",
    "    \n",
    "    # Verificar si todas las combinaciones tienen un p-valor < 0.05\n",
    "    if (p_values_feature < 0.05).all():\n",
    "        caracteristicas_significativas.append(feature)\n",
    "\n",
    "# Mostrar las características significativas\n",
    "print(f\"Características significativas en todas las combinaciones: {caracteristicas_significativas}\")\n"
   ]
  },
  {
   "cell_type": "code",
   "execution_count": 56,
   "metadata": {},
   "outputs": [
    {
     "name": "stdout",
     "output_type": "stream",
     "text": [
      "Características significativas en comparaciones contra controles (CN): ['Alpha2_canon_EPP_HPC_left', 'Alpha2_canon_EPP_HPC_right', 'Alpha2_canon_EPP_PARIET_left', 'Alpha2_canon_EPP_PARIET_right', 'Alpha2_canon_EPP_OCC_left', 'Alpha2_canon_EPP_OCC_right', 'Alpha2_canon_RPD_HPC_left', 'Alpha2_canon_RPD_HPC_right', 'Alpha2_canon_RPD_CING_left', 'Alpha2_canon_RPD_CING_right', 'Alpha2_canon_RPD_PARIET_left', 'Alpha2_canon_RPD_PARIET_right', 'Alpha2_canon_RPD_OCC_left', 'Alpha2_canon_RPD_OCC_right', 'High_subj_spec_EPP_HPC_left', 'High_subj_spec_EPP_HPC_right', 'High_subj_spec_EPP_CING_left', 'High_subj_spec_EPP_CING_right', 'High_subj_spec_EPP_PARIET_left', 'High_subj_spec_EPP_PARIET_right', 'High_subj_spec_EPP_OCC_left', 'High_subj_spec_EPP_OCC_right', 'High_subj_spec_RPD_HPC_left', 'High_subj_spec_RPD_HPC_right', 'High_subj_spec_RPD_CING_left', 'High_subj_spec_RPD_CING_right', 'High_subj_spec_RPD_PARIET_left', 'High_subj_spec_RPD_PARIET_right', 'High_subj_spec_RPD_OCC_left', 'High_subj_spec_RPD_OCC_right', 'Low_subj_spec_RPD_HPC_left', 'Low_subj_spec_RPD_HPC_right', 'Low_subj_spec_RPD_CING_left', 'Low_subj_spec_RPD_CING_right', 'Low_subj_spec_RPD_PARIET_left', 'Low_subj_spec_RPD_PARIET_right', 'Low_subj_spec_RPD_OCC_left', 'Low_subj_spec_RPD_OCC_right', 'IAF_ORB_left', 'IAF_IFG_left', 'IAF_SFG_left', 'IAF_INS_left', 'IAF_OCC_left', 'IAF_OCC_right']\n"
     ]
    }
   ],
   "source": [
    "# Filtrar combinaciones que solo incluyan al grupo \"CN\"\n",
    "resultados_CN_vs_otros = resultados[resultados['Combinación'].str.contains('CN')]\n",
    "\n",
    "# Lista para almacenar las características significativas\n",
    "caracteristicas_significativas_cn = []\n",
    "\n",
    "# Iterar sobre cada característica\n",
    "for feature in features:\n",
    "    # Filtrar las filas correspondientes a la característica en las comparaciones contra \"CN\"\n",
    "    p_values_feature_cn = resultados_CN_vs_otros[resultados_CN_vs_otros['Característica'] == feature]['p-valor']\n",
    "    \n",
    "    # Verificar si todas las combinaciones contra \"CN\" tienen un p-valor < 0.05\n",
    "    if (p_values_feature_cn < 0.05).all():\n",
    "        caracteristicas_significativas_cn.append(feature)\n",
    "\n",
    "# Mostrar las características significativas contra \"CN\"\n",
    "print(f\"Características significativas en comparaciones contra controles (CN): {caracteristicas_significativas_cn}\")\n"
   ]
  },
  {
   "cell_type": "code",
   "execution_count": 57,
   "metadata": {},
   "outputs": [
    {
     "name": "stdout",
     "output_type": "stream",
     "text": [
      "['Alpha2_canon_EPP_HPC_left', 'Alpha2_canon_EPP_HPC_right', 'Alpha2_canon_EPP_PARIET_left', 'Alpha2_canon_EPP_PARIET_right', 'Alpha2_canon_EPP_OCC_left', 'Alpha2_canon_EPP_OCC_right', 'Alpha2_canon_RPD_HPC_left', 'Alpha2_canon_RPD_HPC_right', 'Alpha2_canon_RPD_CING_left', 'Alpha2_canon_RPD_CING_right', 'Alpha2_canon_RPD_PARIET_left', 'Alpha2_canon_RPD_PARIET_right', 'Alpha2_canon_RPD_OCC_left', 'Alpha2_canon_RPD_OCC_right', 'High_subj_spec_EPP_HPC_left', 'High_subj_spec_EPP_HPC_right', 'High_subj_spec_EPP_CING_left', 'High_subj_spec_EPP_CING_right', 'High_subj_spec_EPP_PARIET_left', 'High_subj_spec_EPP_PARIET_right', 'High_subj_spec_EPP_OCC_left', 'High_subj_spec_EPP_OCC_right', 'High_subj_spec_RPD_HPC_left', 'High_subj_spec_RPD_HPC_right', 'High_subj_spec_RPD_CING_left', 'High_subj_spec_RPD_CING_right', 'High_subj_spec_RPD_PARIET_left', 'High_subj_spec_RPD_PARIET_right', 'High_subj_spec_RPD_OCC_left', 'High_subj_spec_RPD_OCC_right', 'Low_subj_spec_RPD_HPC_left', 'Low_subj_spec_RPD_HPC_right', 'Low_subj_spec_RPD_CING_left', 'Low_subj_spec_RPD_CING_right', 'Low_subj_spec_RPD_PARIET_left', 'Low_subj_spec_RPD_PARIET_right', 'Low_subj_spec_RPD_OCC_left', 'Low_subj_spec_RPD_OCC_right', 'IAF_ORB_left', 'IAF_IFG_left', 'IAF_SFG_left', 'IAF_INS_left', 'IAF_OCC_left', 'IAF_OCC_right']\n"
     ]
    }
   ],
   "source": [
    "print(caracteristicas_significativas_cn)\n"
   ]
  },
  {
   "cell_type": "code",
   "execution_count": 58,
   "metadata": {},
   "outputs": [
    {
     "data": {
      "text/plain": [
       "44"
      ]
     },
     "execution_count": 58,
     "metadata": {},
     "output_type": "execute_result"
    }
   ],
   "source": [
    "len(caracteristicas_significativas_cn)"
   ]
  },
  {
   "cell_type": "code",
   "execution_count": 35,
   "metadata": {},
   "outputs": [],
   "source": [
    "significativas = resultados[resultados['p-valor'] < 0.05]['Característica'].unique()"
   ]
  },
  {
   "cell_type": "code",
   "execution_count": 36,
   "metadata": {},
   "outputs": [
    {
     "data": {
      "text/plain": [
       "72"
      ]
     },
     "execution_count": 36,
     "metadata": {},
     "output_type": "execute_result"
    }
   ],
   "source": [
    "len(significativas)"
   ]
  },
  {
   "cell_type": "code",
   "execution_count": 37,
   "metadata": {},
   "outputs": [],
   "source": [
    "significativas_CN = resultados[(resultados['Combinación'].str.contains('CN')) & (resultados['p-valor'] < 0.05)]['Característica'].unique()"
   ]
  },
  {
   "cell_type": "code",
   "execution_count": 38,
   "metadata": {},
   "outputs": [
    {
     "data": {
      "text/plain": [
       "72"
      ]
     },
     "execution_count": 38,
     "metadata": {},
     "output_type": "execute_result"
    }
   ],
   "source": [
    "len(significativas_CN)"
   ]
  },
  {
   "cell_type": "code",
   "execution_count": 7,
   "metadata": {},
   "outputs": [
    {
     "name": "stderr",
     "output_type": "stream",
     "text": [
      "C:\\Users\\felipe\\AppData\\Local\\Temp\\ipykernel_15208\\160740395.py:28: FutureWarning: The behavior of DataFrame concatenation with empty or all-NA entries is deprecated. In a future version, this will no longer exclude empty or all-NA columns when determining the result dtypes. To retain the old behavior, exclude the relevant entries before the concat operation.\n",
      "  resultados = pd.concat([resultados, nueva_fila], ignore_index=True)\n"
     ]
    },
    {
     "name": "stdout",
     "output_type": "stream",
     "text": [
      "    Combinación                 Característica       p-valor\n",
      "0      CN vs AD      Alpha2_canon_EPP_HPC_left  5.732986e-10\n",
      "1      CN vs AD     Alpha2_canon_EPP_HPC_right  4.938511e-11\n",
      "2      CN vs AD   Alpha2_canon_EPP_PARIET_left  1.779073e-18\n",
      "3      CN vs AD  Alpha2_canon_EPP_PARIET_right  5.386808e-22\n",
      "4      CN vs AD      Alpha2_canon_EPP_OCC_left  2.336605e-12\n",
      "..          ...                            ...           ...\n",
      "838  FTD vs MCI                    TF_ORB_left  1.908203e-02\n",
      "839  FTD vs MCI                   TF_ORB_right  2.338138e-02\n",
      "850  FTD vs MCI                   IAF_ORB_left  9.702141e-03\n",
      "855  FTD vs MCI                  IAF_MFG_right  4.058690e-02\n",
      "858  FTD vs MCI                   IAF_HPC_left  5.792941e-03\n",
      "\n",
      "[466 rows x 3 columns]\n"
     ]
    }
   ],
   "source": [
    "from scipy.stats import ttest_ind\n",
    "import pandas as pd\n",
    "\n",
    "# Listado de combinaciones de dataframes\n",
    "dataframes = {'CN': X_CN, 'AD': X_AD, 'MCI': X_MCI, 'FTD': X_FTD}\n",
    "#dataframes = {'CN': X_CN_scaled, 'AD': X_AD_scaled, 'MCI': X_MCI_scaled, 'FTD': X_FTD_scaled, 'PD': X_PD_scaled}\n",
    "combinaciones = [(key1, key2) for key1 in dataframes.keys() for key2 in dataframes.keys() if key1 != key2]\n",
    "\n",
    "# DataFrame para almacenar resultados\n",
    "resultados = pd.DataFrame(columns=['Combinación', 'Característica', 'p-valor'])\n",
    "\n",
    "# Realizar la prueba t para cada combinación y cada característica\n",
    "for (grupo1, grupo2) in combinaciones:\n",
    "    df1 = dataframes[grupo1]\n",
    "    df2 = dataframes[grupo2]\n",
    "    \n",
    "    # Asegurarse de que ambos dataframes tengan las mismas columnas\n",
    "    assert df1.columns.equals(df2.columns), \"Las columnas no coinciden entre los grupos\"\n",
    "    \n",
    "    # Prueba t para cada característica\n",
    "    for columna in df1.columns:\n",
    "        stat, p_valor = ttest_ind(df1[columna], df2[columna], equal_var=False)  # Prueba t de dos muestras independientes\n",
    "        nueva_fila = pd.DataFrame({'Combinación': [f'{grupo1} vs {grupo2}'], \n",
    "                                   'Característica': [columna], \n",
    "                                   'p-valor': [p_valor]})\n",
    "        \n",
    "        # Concatenar la nueva fila al DataFrame de resultados\n",
    "        resultados = pd.concat([resultados, nueva_fila], ignore_index=True)\n",
    "\n",
    "# Filtrar las características más significativas\n",
    "umbral = 0.05\n",
    "caracteristicas_significativas = resultados[resultados['p-valor'] < umbral]\n",
    "\n",
    "# Mostrar los resultados\n",
    "print(caracteristicas_significativas)\n"
   ]
  },
  {
   "cell_type": "code",
   "execution_count": 8,
   "metadata": {},
   "outputs": [
    {
     "name": "stdout",
     "output_type": "stream",
     "text": [
      "Características significativas en comparaciones contra controles (CN): ['Alpha2_canon_EPP_HPC_left', 'Alpha2_canon_EPP_HPC_right', 'Alpha2_canon_EPP_PARIET_left', 'Alpha2_canon_EPP_PARIET_right', 'Alpha2_canon_EPP_OCC_left', 'Alpha2_canon_EPP_OCC_right', 'Alpha2_canon_RPD_HPC_left', 'Alpha2_canon_RPD_HPC_right', 'Alpha2_canon_RPD_CING_left', 'Alpha2_canon_RPD_CING_right', 'Alpha2_canon_RPD_PARIET_left', 'Alpha2_canon_RPD_PARIET_right', 'Alpha2_canon_RPD_OCC_left', 'Alpha2_canon_RPD_OCC_right', 'High_subj_spec_EPP_HPC_left', 'High_subj_spec_EPP_HPC_right', 'High_subj_spec_EPP_CING_left', 'High_subj_spec_EPP_CING_right', 'High_subj_spec_EPP_PARIET_left', 'High_subj_spec_EPP_PARIET_right', 'High_subj_spec_EPP_OCC_left', 'High_subj_spec_EPP_OCC_right', 'High_subj_spec_RPD_HPC_left', 'High_subj_spec_RPD_HPC_right', 'High_subj_spec_RPD_CING_left', 'High_subj_spec_RPD_CING_right', 'High_subj_spec_RPD_PARIET_left', 'High_subj_spec_RPD_PARIET_right', 'High_subj_spec_RPD_OCC_left', 'High_subj_spec_RPD_OCC_right', 'Low_subj_spec_RPD_HPC_left', 'Low_subj_spec_RPD_HPC_right', 'Low_subj_spec_RPD_CING_left', 'Low_subj_spec_RPD_CING_right', 'Low_subj_spec_RPD_PARIET_left', 'Low_subj_spec_RPD_PARIET_right', 'Low_subj_spec_RPD_OCC_left', 'Low_subj_spec_RPD_OCC_right', 'TF_HPC_left', 'TF_HPC_right', 'TF_INS_right', 'IAF_ORB_left', 'IAF_IFG_left', 'IAF_SFG_left', 'IAF_INS_left', 'IAF_OCC_left', 'IAF_OCC_right']\n"
     ]
    }
   ],
   "source": [
    "# Filtrar combinaciones que solo incluyan al grupo \"CN\"\n",
    "resultados_CN_vs_otros = resultados[resultados['Combinación'].str.contains('CN')]\n",
    "\n",
    "# Lista para almacenar las características significativas\n",
    "caracteristicas_significativas_cn = []\n",
    "\n",
    "# Iterar sobre cada característica\n",
    "for feature in features:\n",
    "    # Filtrar las filas correspondientes a la característica en las comparaciones contra \"CN\"\n",
    "    p_values_feature_cn = resultados_CN_vs_otros[resultados_CN_vs_otros['Característica'] == feature]['p-valor']\n",
    "    \n",
    "    # Verificar si todas las combinaciones contra \"CN\" tienen un p-valor < 0.05\n",
    "    if (p_values_feature_cn < 0.05).all():\n",
    "        caracteristicas_significativas_cn.append(feature)\n",
    "\n",
    "# Mostrar las características significativas contra \"CN\"\n",
    "print(f\"Características significativas en comparaciones contra controles (CN): {caracteristicas_significativas_cn}\")\n"
   ]
  },
  {
   "cell_type": "code",
   "execution_count": 9,
   "metadata": {},
   "outputs": [
    {
     "name": "stdout",
     "output_type": "stream",
     "text": [
      "['Alpha2_canon_EPP_HPC_left', 'Alpha2_canon_EPP_HPC_right', 'Alpha2_canon_EPP_PARIET_left', 'Alpha2_canon_EPP_PARIET_right', 'Alpha2_canon_EPP_OCC_left', 'Alpha2_canon_EPP_OCC_right', 'Alpha2_canon_RPD_HPC_left', 'Alpha2_canon_RPD_HPC_right', 'Alpha2_canon_RPD_CING_left', 'Alpha2_canon_RPD_CING_right', 'Alpha2_canon_RPD_PARIET_left', 'Alpha2_canon_RPD_PARIET_right', 'Alpha2_canon_RPD_OCC_left', 'Alpha2_canon_RPD_OCC_right', 'High_subj_spec_EPP_HPC_left', 'High_subj_spec_EPP_HPC_right', 'High_subj_spec_EPP_CING_left', 'High_subj_spec_EPP_CING_right', 'High_subj_spec_EPP_PARIET_left', 'High_subj_spec_EPP_PARIET_right', 'High_subj_spec_EPP_OCC_left', 'High_subj_spec_EPP_OCC_right', 'High_subj_spec_RPD_HPC_left', 'High_subj_spec_RPD_HPC_right', 'High_subj_spec_RPD_CING_left', 'High_subj_spec_RPD_CING_right', 'High_subj_spec_RPD_PARIET_left', 'High_subj_spec_RPD_PARIET_right', 'High_subj_spec_RPD_OCC_left', 'High_subj_spec_RPD_OCC_right', 'Low_subj_spec_RPD_HPC_left', 'Low_subj_spec_RPD_HPC_right', 'Low_subj_spec_RPD_CING_left', 'Low_subj_spec_RPD_CING_right', 'Low_subj_spec_RPD_PARIET_left', 'Low_subj_spec_RPD_PARIET_right', 'Low_subj_spec_RPD_OCC_left', 'Low_subj_spec_RPD_OCC_right', 'TF_HPC_left', 'TF_HPC_right', 'TF_INS_right', 'IAF_ORB_left', 'IAF_IFG_left', 'IAF_SFG_left', 'IAF_INS_left', 'IAF_OCC_left', 'IAF_OCC_right']\n"
     ]
    }
   ],
   "source": [
    "print(caracteristicas_significativas_cn)"
   ]
  },
  {
   "cell_type": "code",
   "execution_count": 10,
   "metadata": {},
   "outputs": [
    {
     "data": {
      "text/plain": [
       "47"
      ]
     },
     "execution_count": 10,
     "metadata": {},
     "output_type": "execute_result"
    }
   ],
   "source": [
    "len(caracteristicas_significativas_cn)"
   ]
  },
  {
   "cell_type": "code",
   "execution_count": 11,
   "metadata": {},
   "outputs": [
    {
     "name": "stderr",
     "output_type": "stream",
     "text": [
      "C:\\Users\\felipe\\AppData\\Local\\Temp\\ipykernel_15208\\3541465838.py:28: FutureWarning: The behavior of DataFrame concatenation with empty or all-NA entries is deprecated. In a future version, this will no longer exclude empty or all-NA columns when determining the result dtypes. To retain the old behavior, exclude the relevant entries before the concat operation.\n",
      "  resultados = pd.concat([resultados, nueva_fila], ignore_index=True)\n"
     ]
    },
    {
     "name": "stdout",
     "output_type": "stream",
     "text": [
      "    Combinación                 Característica       p-valor\n",
      "0      CN vs AD      Alpha2_canon_EPP_HPC_left  5.732986e-10\n",
      "1      CN vs AD     Alpha2_canon_EPP_HPC_right  4.938511e-11\n",
      "2      CN vs AD   Alpha2_canon_EPP_PARIET_left  1.779073e-18\n",
      "3      CN vs AD  Alpha2_canon_EPP_PARIET_right  5.386808e-22\n",
      "4      CN vs AD      Alpha2_canon_EPP_OCC_left  2.336605e-12\n",
      "..          ...                            ...           ...\n",
      "139    AD vs CN                  IAF_HPC_right  9.521796e-05\n",
      "140    AD vs CN                   IAF_INS_left  2.195089e-03\n",
      "141    AD vs CN                  IAF_INS_right  1.345480e-02\n",
      "142    AD vs CN                   IAF_OCC_left  6.575971e-14\n",
      "143    AD vs CN                  IAF_OCC_right  3.641705e-16\n",
      "\n",
      "[142 rows x 3 columns]\n"
     ]
    }
   ],
   "source": [
    "from scipy.stats import ttest_ind\n",
    "import pandas as pd\n",
    "\n",
    "# Listado de combinaciones de dataframes\n",
    "dataframes = {'CN': X_CN, 'AD': X_AD}\n",
    "#dataframes = {'CN': X_CN_scaled, 'AD': X_AD_scaled, 'MCI': X_MCI_scaled, 'FTD': X_FTD_scaled, 'PD': X_PD_scaled}\n",
    "combinaciones = [(key1, key2) for key1 in dataframes.keys() for key2 in dataframes.keys() if key1 != key2]\n",
    "\n",
    "# DataFrame para almacenar resultados\n",
    "resultados = pd.DataFrame(columns=['Combinación', 'Característica', 'p-valor'])\n",
    "\n",
    "# Realizar la prueba t para cada combinación y cada característica\n",
    "for (grupo1, grupo2) in combinaciones:\n",
    "    df1 = dataframes[grupo1]\n",
    "    df2 = dataframes[grupo2]\n",
    "    \n",
    "    # Asegurarse de que ambos dataframes tengan las mismas columnas\n",
    "    assert df1.columns.equals(df2.columns), \"Las columnas no coinciden entre los grupos\"\n",
    "    \n",
    "    # Prueba t para cada característica\n",
    "    for columna in df1.columns:\n",
    "        stat, p_valor = ttest_ind(df1[columna], df2[columna], equal_var=False)  # Prueba t de dos muestras independientes\n",
    "        nueva_fila = pd.DataFrame({'Combinación': [f'{grupo1} vs {grupo2}'], \n",
    "                                   'Característica': [columna], \n",
    "                                   'p-valor': [p_valor]})\n",
    "        \n",
    "        # Concatenar la nueva fila al DataFrame de resultados\n",
    "        resultados = pd.concat([resultados, nueva_fila], ignore_index=True)\n",
    "\n",
    "# Filtrar las características más significativas\n",
    "umbral = 0.05\n",
    "caracteristicas_significativas = resultados[resultados['p-valor'] < umbral]\n",
    "\n",
    "# Mostrar los resultados\n",
    "print(caracteristicas_significativas)\n"
   ]
  },
  {
   "cell_type": "code",
   "execution_count": 12,
   "metadata": {},
   "outputs": [
    {
     "name": "stdout",
     "output_type": "stream",
     "text": [
      "Características significativas en comparaciones contra controles (CN): ['Alpha2_canon_EPP_HPC_left', 'Alpha2_canon_EPP_HPC_right', 'Alpha2_canon_EPP_PARIET_left', 'Alpha2_canon_EPP_PARIET_right', 'Alpha2_canon_EPP_OCC_left', 'Alpha2_canon_EPP_OCC_right', 'Alpha2_canon_RPD_HPC_left', 'Alpha2_canon_RPD_HPC_right', 'Alpha2_canon_RPD_CING_left', 'Alpha2_canon_RPD_CING_right', 'Alpha2_canon_RPD_PARIET_left', 'Alpha2_canon_RPD_PARIET_right', 'Alpha2_canon_RPD_OCC_left', 'Alpha2_canon_RPD_OCC_right', 'High_subj_spec_EPP_HPC_left', 'High_subj_spec_EPP_HPC_right', 'High_subj_spec_EPP_CING_left', 'High_subj_spec_EPP_CING_right', 'High_subj_spec_EPP_PARIET_left', 'High_subj_spec_EPP_PARIET_right', 'High_subj_spec_EPP_OCC_left', 'High_subj_spec_EPP_OCC_right', 'High_subj_spec_RPD_HPC_left', 'High_subj_spec_RPD_HPC_right', 'High_subj_spec_RPD_CING_left', 'High_subj_spec_RPD_CING_right', 'High_subj_spec_RPD_PARIET_left', 'High_subj_spec_RPD_PARIET_right', 'High_subj_spec_RPD_OCC_left', 'High_subj_spec_RPD_OCC_right', 'Low_subj_spec_EPP_HPC_left', 'Low_subj_spec_EPP_HPC_right', 'Low_subj_spec_EPP_CING_left', 'Low_subj_spec_EPP_CING_right', 'Low_subj_spec_EPP_PARIET_left', 'Low_subj_spec_EPP_PARIET_right', 'Low_subj_spec_EPP_OCC_left', 'Low_subj_spec_EPP_OCC_right', 'Low_subj_spec_RPD_HPC_left', 'Low_subj_spec_RPD_HPC_right', 'Low_subj_spec_RPD_CING_left', 'Low_subj_spec_RPD_CING_right', 'Low_subj_spec_RPD_PARIET_left', 'Low_subj_spec_RPD_PARIET_right', 'Low_subj_spec_RPD_OCC_left', 'Low_subj_spec_RPD_OCC_right', 'TF_ORB_left', 'TF_ORB_right', 'TF_IFG_left', 'TF_IFG_right', 'TF_MFG_left', 'TF_MFG_right', 'TF_SFG_left', 'TF_SFG_right', 'TF_HPC_left', 'TF_HPC_right', 'TF_INS_left', 'TF_INS_right', 'IAF_ORB_left', 'IAF_ORB_right', 'IAF_IFG_left', 'IAF_IFG_right', 'IAF_MFG_left', 'IAF_SFG_left', 'IAF_SFG_right', 'IAF_HPC_left', 'IAF_HPC_right', 'IAF_INS_left', 'IAF_INS_right', 'IAF_OCC_left', 'IAF_OCC_right']\n"
     ]
    }
   ],
   "source": [
    "# Filtrar combinaciones que solo incluyan al grupo \"CN\"\n",
    "resultados_CN_vs_otros = resultados[resultados['Combinación'].str.contains('CN')]\n",
    "\n",
    "# Lista para almacenar las características significativas\n",
    "caracteristicas_significativas_cn = []\n",
    "\n",
    "# Iterar sobre cada característica\n",
    "for feature in features:\n",
    "    # Filtrar las filas correspondientes a la característica en las comparaciones contra \"CN\"\n",
    "    p_values_feature_cn = resultados_CN_vs_otros[resultados_CN_vs_otros['Característica'] == feature]['p-valor']\n",
    "    \n",
    "    # Verificar si todas las combinaciones contra \"CN\" tienen un p-valor < 0.05\n",
    "    if (p_values_feature_cn < 0.05).all():\n",
    "        caracteristicas_significativas_cn.append(feature)\n",
    "\n",
    "# Mostrar las características significativas contra \"CN\"\n",
    "print(f\"Características significativas en comparaciones contra controles (CN): {caracteristicas_significativas_cn}\")\n"
   ]
  },
  {
   "cell_type": "code",
   "execution_count": 13,
   "metadata": {},
   "outputs": [
    {
     "name": "stdout",
     "output_type": "stream",
     "text": [
      "['Alpha2_canon_EPP_HPC_left', 'Alpha2_canon_EPP_HPC_right', 'Alpha2_canon_EPP_PARIET_left', 'Alpha2_canon_EPP_PARIET_right', 'Alpha2_canon_EPP_OCC_left', 'Alpha2_canon_EPP_OCC_right', 'Alpha2_canon_RPD_HPC_left', 'Alpha2_canon_RPD_HPC_right', 'Alpha2_canon_RPD_CING_left', 'Alpha2_canon_RPD_CING_right', 'Alpha2_canon_RPD_PARIET_left', 'Alpha2_canon_RPD_PARIET_right', 'Alpha2_canon_RPD_OCC_left', 'Alpha2_canon_RPD_OCC_right', 'High_subj_spec_EPP_HPC_left', 'High_subj_spec_EPP_HPC_right', 'High_subj_spec_EPP_CING_left', 'High_subj_spec_EPP_CING_right', 'High_subj_spec_EPP_PARIET_left', 'High_subj_spec_EPP_PARIET_right', 'High_subj_spec_EPP_OCC_left', 'High_subj_spec_EPP_OCC_right', 'High_subj_spec_RPD_HPC_left', 'High_subj_spec_RPD_HPC_right', 'High_subj_spec_RPD_CING_left', 'High_subj_spec_RPD_CING_right', 'High_subj_spec_RPD_PARIET_left', 'High_subj_spec_RPD_PARIET_right', 'High_subj_spec_RPD_OCC_left', 'High_subj_spec_RPD_OCC_right', 'Low_subj_spec_EPP_HPC_left', 'Low_subj_spec_EPP_HPC_right', 'Low_subj_spec_EPP_CING_left', 'Low_subj_spec_EPP_CING_right', 'Low_subj_spec_EPP_PARIET_left', 'Low_subj_spec_EPP_PARIET_right', 'Low_subj_spec_EPP_OCC_left', 'Low_subj_spec_EPP_OCC_right', 'Low_subj_spec_RPD_HPC_left', 'Low_subj_spec_RPD_HPC_right', 'Low_subj_spec_RPD_CING_left', 'Low_subj_spec_RPD_CING_right', 'Low_subj_spec_RPD_PARIET_left', 'Low_subj_spec_RPD_PARIET_right', 'Low_subj_spec_RPD_OCC_left', 'Low_subj_spec_RPD_OCC_right', 'TF_ORB_left', 'TF_ORB_right', 'TF_IFG_left', 'TF_IFG_right', 'TF_MFG_left', 'TF_MFG_right', 'TF_SFG_left', 'TF_SFG_right', 'TF_HPC_left', 'TF_HPC_right', 'TF_INS_left', 'TF_INS_right', 'IAF_ORB_left', 'IAF_ORB_right', 'IAF_IFG_left', 'IAF_IFG_right', 'IAF_MFG_left', 'IAF_SFG_left', 'IAF_SFG_right', 'IAF_HPC_left', 'IAF_HPC_right', 'IAF_INS_left', 'IAF_INS_right', 'IAF_OCC_left', 'IAF_OCC_right']\n"
     ]
    }
   ],
   "source": [
    "print(caracteristicas_significativas_cn)"
   ]
  },
  {
   "cell_type": "code",
   "execution_count": 14,
   "metadata": {},
   "outputs": [
    {
     "data": {
      "text/plain": [
       "71"
      ]
     },
     "execution_count": 14,
     "metadata": {},
     "output_type": "execute_result"
    }
   ],
   "source": [
    "len(caracteristicas_significativas_cn)"
   ]
  },
  {
   "cell_type": "markdown",
   "metadata": {},
   "source": [
    "# T student"
   ]
  },
  {
   "cell_type": "code",
   "execution_count": 18,
   "metadata": {},
   "outputs": [
    {
     "name": "stdout",
     "output_type": "stream",
     "text": [
      "                          Feature  T-Statistic       P-Value\n",
      "0       Alpha2_canon_EPP_HPC_left     6.290084  5.732986e-10\n",
      "1      Alpha2_canon_EPP_HPC_right     6.706381  4.938511e-11\n",
      "2    Alpha2_canon_EPP_PARIET_left     9.053321  1.779073e-18\n",
      "3   Alpha2_canon_EPP_PARIET_right    10.005326  5.386808e-22\n",
      "4       Alpha2_canon_EPP_OCC_left     7.137402  2.336605e-12\n",
      "..                            ...          ...           ...\n",
      "67                  IAF_HPC_right    -3.929755  9.521796e-05\n",
      "68                   IAF_INS_left    -3.076245  2.195089e-03\n",
      "69                  IAF_INS_right    -2.479452  1.345480e-02\n",
      "70                   IAF_OCC_left    -7.676001  6.575971e-14\n",
      "71                  IAF_OCC_right    -8.358405  3.641705e-16\n",
      "\n",
      "[72 rows x 3 columns]\n"
     ]
    }
   ],
   "source": [
    "import pandas as pd\n",
    "from scipy import stats\n",
    "\n",
    "# Asegúrate de que los DataFrames X_AD_scaled y X_CN_scaled están disponibles\n",
    "\n",
    "# Lista para almacenar los resultados\n",
    "t_statistics = []\n",
    "p_values = []\n",
    "\n",
    "# Iteramos sobre cada columna (característica)\n",
    "for col in X_AD_scaled.columns:\n",
    "    # Realizamos la prueba T de Student entre las dos columnas correspondientes\n",
    "    t_stat, p_val = stats.ttest_ind(X_AD_scaled[col], X_CN_scaled[col], equal_var=False)\n",
    "    \n",
    "    # Guardamos los resultados\n",
    "    t_statistics.append(t_stat)\n",
    "    p_values.append(p_val)\n",
    "\n",
    "# Creamos un DataFrame para ver los resultados\n",
    "results = pd.DataFrame({\n",
    "    'Feature': X_AD_scaled.columns,\n",
    "    'T-Statistic': t_statistics,\n",
    "    'P-Value': p_values\n",
    "})\n",
    "\n",
    "print(results)\n"
   ]
  },
  {
   "cell_type": "code",
   "execution_count": 30,
   "metadata": {},
   "outputs": [
    {
     "name": "stdout",
     "output_type": "stream",
     "text": [
      "['Alpha2_canon_EPP_HPC_left', 'Alpha2_canon_EPP_HPC_right', 'Alpha2_canon_EPP_PARIET_left', 'Alpha2_canon_EPP_PARIET_right', 'Alpha2_canon_EPP_OCC_left', 'Alpha2_canon_EPP_OCC_right', 'Alpha2_canon_RPD_HPC_left', 'Alpha2_canon_RPD_HPC_right', 'Alpha2_canon_RPD_CING_left', 'Alpha2_canon_RPD_CING_right', 'Alpha2_canon_RPD_PARIET_left', 'Alpha2_canon_RPD_PARIET_right', 'Alpha2_canon_RPD_OCC_left', 'Alpha2_canon_RPD_OCC_right', 'High_subj_spec_EPP_HPC_left', 'High_subj_spec_EPP_HPC_right', 'High_subj_spec_EPP_CING_left', 'High_subj_spec_EPP_CING_right', 'High_subj_spec_EPP_PARIET_left', 'High_subj_spec_EPP_PARIET_right', 'High_subj_spec_EPP_OCC_left', 'High_subj_spec_EPP_OCC_right', 'High_subj_spec_RPD_HPC_left', 'High_subj_spec_RPD_HPC_right', 'High_subj_spec_RPD_CING_left', 'High_subj_spec_RPD_CING_right', 'High_subj_spec_RPD_PARIET_left', 'High_subj_spec_RPD_PARIET_right', 'High_subj_spec_RPD_OCC_left', 'High_subj_spec_RPD_OCC_right', 'Low_subj_spec_EPP_HPC_right', 'Low_subj_spec_EPP_PARIET_left', 'Low_subj_spec_EPP_PARIET_right', 'Low_subj_spec_EPP_OCC_left', 'Low_subj_spec_EPP_OCC_right', 'Low_subj_spec_RPD_HPC_left', 'Low_subj_spec_RPD_HPC_right', 'Low_subj_spec_RPD_CING_left', 'Low_subj_spec_RPD_CING_right', 'Low_subj_spec_RPD_PARIET_left', 'Low_subj_spec_RPD_PARIET_right', 'Low_subj_spec_RPD_OCC_left', 'Low_subj_spec_RPD_OCC_right', 'TF_ORB_left', 'TF_ORB_right', 'TF_IFG_left', 'TF_SFG_left', 'TF_SFG_right', 'TF_HPC_left', 'TF_HPC_right', 'TF_INS_left', 'TF_INS_right', 'IAF_HPC_left', 'IAF_HPC_right', 'IAF_OCC_left', 'IAF_OCC_right']\n"
     ]
    }
   ],
   "source": [
    "# Filtrar las características con P-Value < 0.05\n",
    "significant_features = results[results['P-Value'] < 0.001]['Feature'].tolist()\n",
    "\n",
    "# Mostrar la lista de características significativas\n",
    "print(significant_features)\n"
   ]
  },
  {
   "cell_type": "code",
   "execution_count": 31,
   "metadata": {},
   "outputs": [
    {
     "data": {
      "text/plain": [
       "56"
      ]
     },
     "execution_count": 31,
     "metadata": {},
     "output_type": "execute_result"
    }
   ],
   "source": [
    "len(significant_features)"
   ]
  }
 ],
 "metadata": {
  "kernelspec": {
   "display_name": "brain_age_env",
   "language": "python",
   "name": "python3"
  },
  "language_info": {
   "codemirror_mode": {
    "name": "ipython",
    "version": 3
   },
   "file_extension": ".py",
   "mimetype": "text/x-python",
   "name": "python",
   "nbconvert_exporter": "python",
   "pygments_lexer": "ipython3",
   "version": "3.12.4"
  }
 },
 "nbformat": 4,
 "nbformat_minor": 2
}
