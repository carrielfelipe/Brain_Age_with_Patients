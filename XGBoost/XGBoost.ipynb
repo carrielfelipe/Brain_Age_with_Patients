{
 "cells": [
  {
   "cell_type": "markdown",
   "metadata": {},
   "source": [
    "# XGBoost"
   ]
  },
  {
   "cell_type": "code",
   "execution_count": 1,
   "metadata": {},
   "outputs": [],
   "source": [
    "path=  'C:/Users/felipe/Documents/Brain/'\n",
    "#import sys\n",
    "#sys.path.append(path) \n",
    "path_=  'C:/Users/felipe/Documents/Brain/Brain_Model/'\n",
    "import sys\n",
    "sys.path.append(path_) "
   ]
  },
  {
   "cell_type": "code",
   "execution_count": 2,
   "metadata": {},
   "outputs": [
    {
     "name": "stderr",
     "output_type": "stream",
     "text": [
      "c:\\Users\\felipe\\Documents\\Brain\\brain_age_env\\Lib\\site-packages\\tqdm\\auto.py:21: TqdmWarning: IProgress not found. Please update jupyter and ipywidgets. See https://ipywidgets.readthedocs.io/en/stable/user_install.html\n",
      "  from .autonotebook import tqdm as notebook_tqdm\n"
     ]
    }
   ],
   "source": [
    "import xgboost as xgb\n",
    "from base_regressor import BaseRegressor\n",
    "from Plotter import Plotter\n",
    "\n",
    "from skopt.space import Real, Categorical, Integer\n",
    "\n",
    "class XGBoostRegressor(BaseRegressor):\n",
    "    def __init__(self, save_path=None, scaler=None, params=None, params_space=None, fit_params_search=None,model_params_search=None,fit_params_train=None,model_params_train=None, name_model=\"XGBoost\"):\n",
    "        super().__init__(save_path, scaler, params, params_space, fit_params_search ,model_params_search,fit_params_train ,model_params_train, name_model)\n",
    "        \n",
    "        self.model_ml = xgb.XGBRegressor\n",
    "        if params is None:\n",
    "            self.params = {\n",
    "                'objective': 'reg:squarederror',\n",
    "                'n_estimators': 100,\n",
    "                'learning_rate': 0.1,\n",
    "                'max_depth': 3,\n",
    "                'subsample': 0.8,\n",
    "                'colsample_bytree': 0.8\n",
    "            }\n",
    "        if params_space is None:\n",
    "            self.params_space = {\n",
    "                'n_estimators': Integer(50, 5000),\n",
    "                'learning_rate': Real(0.0001, 0.2, prior='log-uniform'),\n",
    "                'max_depth': Integer(3, 10),\n",
    "                'subsample': Real(0.1, 1.0),\n",
    "                'colsample_bytree': Real(0.1, 1.0)\n",
    "            }"
   ]
  },
  {
   "cell_type": "code",
   "execution_count": 3,
   "metadata": {},
   "outputs": [],
   "source": [
    "# 72 Features\n",
    "features = ['Alpha2_canon_EPP_HPC_left', 'Alpha2_canon_EPP_HPC_right', 'Alpha2_canon_EPP_PARIET_left', 'Alpha2_canon_EPP_PARIET_right', 'Alpha2_canon_EPP_OCC_left', 'Alpha2_canon_EPP_OCC_right', 'Alpha2_canon_RPD_HPC_left', 'Alpha2_canon_RPD_HPC_right', 'Alpha2_canon_RPD_CING_left', 'Alpha2_canon_RPD_CING_right', 'Alpha2_canon_RPD_PARIET_left', 'Alpha2_canon_RPD_PARIET_right', 'Alpha2_canon_RPD_OCC_left', 'Alpha2_canon_RPD_OCC_right', 'High_subj_spec_EPP_HPC_left', 'High_subj_spec_EPP_HPC_right', 'High_subj_spec_EPP_CING_left', 'High_subj_spec_EPP_CING_right', 'High_subj_spec_EPP_PARIET_left', 'High_subj_spec_EPP_PARIET_right', 'High_subj_spec_EPP_OCC_left', 'High_subj_spec_EPP_OCC_right', 'High_subj_spec_RPD_HPC_left', 'High_subj_spec_RPD_HPC_right', 'High_subj_spec_RPD_CING_left', 'High_subj_spec_RPD_CING_right', 'High_subj_spec_RPD_PARIET_left', 'High_subj_spec_RPD_PARIET_right', 'High_subj_spec_RPD_OCC_left', 'High_subj_spec_RPD_OCC_right', 'Low_subj_spec_EPP_HPC_left', 'Low_subj_spec_EPP_HPC_right', 'Low_subj_spec_EPP_CING_left', 'Low_subj_spec_EPP_CING_right', 'Low_subj_spec_EPP_PARIET_left', 'Low_subj_spec_EPP_PARIET_right', 'Low_subj_spec_EPP_OCC_left', 'Low_subj_spec_EPP_OCC_right', 'Low_subj_spec_RPD_HPC_left', 'Low_subj_spec_RPD_HPC_right', 'Low_subj_spec_RPD_CING_left', 'Low_subj_spec_RPD_CING_right', 'Low_subj_spec_RPD_PARIET_left', 'Low_subj_spec_RPD_PARIET_right', 'Low_subj_spec_RPD_OCC_left', 'Low_subj_spec_RPD_OCC_right', 'TF_ORB_left', 'TF_ORB_right', 'TF_IFG_left', 'TF_IFG_right', 'TF_MFG_left', 'TF_MFG_right', 'TF_SFG_left', 'TF_SFG_right', 'TF_HPC_left', 'TF_HPC_right', 'TF_INS_left', 'TF_INS_right', 'IAF_ORB_left', 'IAF_ORB_right', 'IAF_IFG_left', 'IAF_IFG_right', 'IAF_MFG_left', 'IAF_MFG_right', 'IAF_SFG_left', 'IAF_SFG_right', 'IAF_HPC_left', 'IAF_HPC_right', 'IAF_INS_left', 'IAF_INS_right', 'IAF_OCC_left', 'IAF_OCC_right']"
   ]
  },
  {
   "cell_type": "markdown",
   "metadata": {},
   "source": [
    "# Data"
   ]
  },
  {
   "cell_type": "code",
   "execution_count": 4,
   "metadata": {},
   "outputs": [],
   "source": [
    "import pandas as pd\n",
    "import numpy as np\n",
    "from sklearn.preprocessing import MinMaxScaler,StandardScaler\n",
    "import pickle\n",
    "\n",
    "\n",
    "file_path_CN = f'{path}Brain_Aging/CN_freq.xlsx'\n",
    "file_path_AD = f'{path}Brain_Aging/AD_freq.xlsx'\n",
    "file_path_FTD = f'{path}Brain_Aging/FTD_freq.xlsx'\n",
    "file_path_MCI = f'{path}Brain_Aging/MCI_freq.xlsx'\n",
    "file_path_PD = f'{path}Brain_Aging/PD_freq.xlsx'\n",
    "\n",
    "df_CN = pd.read_excel(file_path_CN)\n",
    "df_AD = pd.read_excel(file_path_AD)\n",
    "df_FTD = pd.read_excel(file_path_FTD)\n",
    "df_MCI = pd.read_excel(file_path_MCI)\n",
    "df_PD = pd.read_excel(file_path_PD)\n",
    "\n",
    "df_CN_filtrado = df_CN[(df_CN['Age'] >=50) & (df_CN['Age'] <= 90)].reset_index(drop=True)\n",
    "df_AD_filtrado = df_AD[(df_AD['Age'] >= 50) & (df_AD['Age'] <= 90)].reset_index(drop=True)\n",
    "df_FTD_filtrado = df_FTD[(df_FTD['Age'] >= 50) & (df_FTD['Age'] <= 90)].reset_index(drop=True)\n",
    "df_MCI_filtrado = df_MCI[(df_MCI['Age'] >= 50) & (df_MCI['Age'] <= 90)].reset_index(drop=True)\n",
    "df_PD_filtrado = df_PD[(df_PD['Age'] >= 50) & (df_PD['Age'] <= 90)].reset_index(drop=True)\n",
    "\n",
    "\n",
    "X_CN = df_CN_filtrado[features]\n",
    "y_CN = df_CN_filtrado[\"Age\"]\n",
    "ID_CN = df_CN_filtrado[\"ID-unique\"]\n",
    "\n",
    "X_AD = df_AD_filtrado[features]\n",
    "y_AD = df_AD_filtrado[\"Age\"]\n",
    "ID_AD = df_AD_filtrado[\"ID-unique\"]\n",
    "\n",
    "X_FTD = df_FTD_filtrado[features]\n",
    "y_FTD = df_FTD_filtrado[\"Age\"]\n",
    "ID_FTD = df_FTD_filtrado[\"ID-unique\"]\n",
    "\n",
    "X_MCI = df_MCI_filtrado[features]\n",
    "y_MCI = df_MCI_filtrado[\"Age\"]\n",
    "ID_MCI = df_MCI_filtrado[\"ID-unique\"]\n",
    "\n",
    "X_PD = df_PD_filtrado[features]\n",
    "y_PD = df_PD_filtrado[\"Age\"]\n",
    "ID_PD = df_PD_filtrado[\"ID-unique\"]\n",
    "\n",
    "# \n",
    "X_combined = pd.concat([X_CN, X_AD, X_FTD, X_MCI, X_PD], axis=0).reset_index(drop=True)\n",
    "#X_combined = pd.concat([X_CN, X_AD], axis=0).reset_index(drop=True)\n",
    "scaler = StandardScaler()\n",
    "scaler.fit(X_CN)\n",
    "\n",
    "X_CN_scaled = scaler.transform(X_CN)\n",
    "X_AD_scaled = scaler.transform(X_AD)\n",
    "X_FTD_scaled = scaler.transform(X_FTD)\n",
    "X_MCI_scaled = scaler.transform(X_MCI)\n",
    "X_PD_scaled = scaler.transform(X_PD)\n",
    "\n",
    "X_CN_scaled = pd.DataFrame(X_CN_scaled, columns=X_CN.columns)\n",
    "X_AD_scaled = pd.DataFrame(X_AD_scaled, columns=X_AD.columns)\n",
    "X_FTD_scaled = pd.DataFrame(X_FTD_scaled, columns=X_FTD.columns)\n",
    "X_MCI_scaled = pd.DataFrame(X_MCI_scaled, columns=X_MCI.columns)\n",
    "X_PD_scaled = pd.DataFrame(X_PD_scaled, columns=X_PD.columns)"
   ]
  },
  {
   "cell_type": "code",
   "execution_count": 5,
   "metadata": {},
   "outputs": [],
   "source": [
    "df_concatenado_CN = pd.concat([X_CN, y_CN, ID_CN], axis=1, ignore_index=False)\n",
    "df_concatenado_AD = pd.concat([X_AD, y_AD, ID_AD], axis=1, ignore_index=False)\n",
    "df_concatenado_FTD = pd.concat([X_FTD, y_FTD, ID_FTD], axis=1, ignore_index=False)\n",
    "df_concatenado_MCI = pd.concat([X_MCI, y_MCI, ID_MCI], axis=1, ignore_index=False)\n",
    "df_concatenado_PD = pd.concat([X_PD, y_PD, ID_PD], axis=1, ignore_index=False)\n",
    "\n",
    "lista_dfs = [df_concatenado_AD, df_concatenado_FTD, df_concatenado_MCI,df_concatenado_PD]"
   ]
  },
  {
   "cell_type": "code",
   "execution_count": 6,
   "metadata": {},
   "outputs": [],
   "source": [
    "model = XGBoostRegressor()\n",
    "Plotters = Plotter()"
   ]
  },
  {
   "cell_type": "markdown",
   "metadata": {},
   "source": [
    "# Hyperparameter Tuning"
   ]
  },
  {
   "cell_type": "code",
   "execution_count": 7,
   "metadata": {},
   "outputs": [
    {
     "name": "stdout",
     "output_type": "stream",
     "text": [
      "Fitting 10 folds for each of 1 candidates, totalling 10 fits\n",
      "Fitting 10 folds for each of 1 candidates, totalling 10 fits\n",
      "Fitting 10 folds for each of 1 candidates, totalling 10 fits\n",
      "Fitting 10 folds for each of 1 candidates, totalling 10 fits\n",
      "Fitting 10 folds for each of 1 candidates, totalling 10 fits\n",
      "Fitting 10 folds for each of 1 candidates, totalling 10 fits\n",
      "Fitting 10 folds for each of 1 candidates, totalling 10 fits\n",
      "Fitting 10 folds for each of 1 candidates, totalling 10 fits\n",
      "Fitting 10 folds for each of 1 candidates, totalling 10 fits\n",
      "Fitting 10 folds for each of 1 candidates, totalling 10 fits\n",
      "Fitting 10 folds for each of 1 candidates, totalling 10 fits\n",
      "Fitting 10 folds for each of 1 candidates, totalling 10 fits\n",
      "Fitting 10 folds for each of 1 candidates, totalling 10 fits\n",
      "Fitting 10 folds for each of 1 candidates, totalling 10 fits\n",
      "Fitting 10 folds for each of 1 candidates, totalling 10 fits\n",
      "Fitting 10 folds for each of 1 candidates, totalling 10 fits\n",
      "Fitting 10 folds for each of 1 candidates, totalling 10 fits\n",
      "Fitting 10 folds for each of 1 candidates, totalling 10 fits\n",
      "Fitting 10 folds for each of 1 candidates, totalling 10 fits\n",
      "Fitting 10 folds for each of 1 candidates, totalling 10 fits\n",
      "Fitting 10 folds for each of 1 candidates, totalling 10 fits\n",
      "Fitting 10 folds for each of 1 candidates, totalling 10 fits\n",
      "Fitting 10 folds for each of 1 candidates, totalling 10 fits\n",
      "Fitting 10 folds for each of 1 candidates, totalling 10 fits\n",
      "Fitting 10 folds for each of 1 candidates, totalling 10 fits\n",
      "Fitting 10 folds for each of 1 candidates, totalling 10 fits\n",
      "Fitting 10 folds for each of 1 candidates, totalling 10 fits\n",
      "Fitting 10 folds for each of 1 candidates, totalling 10 fits\n",
      "Fitting 10 folds for each of 1 candidates, totalling 10 fits\n",
      "Fitting 10 folds for each of 1 candidates, totalling 10 fits\n",
      "Fitting 10 folds for each of 1 candidates, totalling 10 fits\n",
      "Fitting 10 folds for each of 1 candidates, totalling 10 fits\n",
      "Fitting 10 folds for each of 1 candidates, totalling 10 fits\n",
      "Fitting 10 folds for each of 1 candidates, totalling 10 fits\n",
      "Fitting 10 folds for each of 1 candidates, totalling 10 fits\n",
      "Fitting 10 folds for each of 1 candidates, totalling 10 fits\n",
      "Fitting 10 folds for each of 1 candidates, totalling 10 fits\n",
      "Fitting 10 folds for each of 1 candidates, totalling 10 fits\n",
      "Fitting 10 folds for each of 1 candidates, totalling 10 fits\n",
      "Fitting 10 folds for each of 1 candidates, totalling 10 fits\n",
      "Fitting 10 folds for each of 1 candidates, totalling 10 fits\n",
      "Fitting 10 folds for each of 1 candidates, totalling 10 fits\n",
      "Fitting 10 folds for each of 1 candidates, totalling 10 fits\n",
      "Fitting 10 folds for each of 1 candidates, totalling 10 fits\n",
      "Fitting 10 folds for each of 1 candidates, totalling 10 fits\n",
      "Fitting 10 folds for each of 1 candidates, totalling 10 fits\n",
      "Fitting 10 folds for each of 1 candidates, totalling 10 fits\n",
      "Fitting 10 folds for each of 1 candidates, totalling 10 fits\n",
      "Fitting 10 folds for each of 1 candidates, totalling 10 fits\n",
      "Fitting 10 folds for each of 1 candidates, totalling 10 fits\n"
     ]
    }
   ],
   "source": [
    "#'neg_mean_squared_error'\n",
    "#'neg_root_mean_squared_error'\n",
    "#'explained_variance'\n",
    "#'r2'\n",
    "\n",
    "opt_model, best_params = model.search_best_model (X=X_CN_scaled, y=y_CN, n_iter_=50, scoring_metric='r2')\n"
   ]
  },
  {
   "cell_type": "code",
   "execution_count": 8,
   "metadata": {},
   "outputs": [],
   "source": [
    "with open(f'{path}Brain_Aging/Opt_Model/opt_XGBoost.pickle', 'wb') as file:\n",
    "        pickle.dump(opt_model, file)"
   ]
  },
  {
   "cell_type": "code",
   "execution_count": 9,
   "metadata": {},
   "outputs": [],
   "source": [
    "with open(f'{path}Brain_Aging/Opt_Model/opt_XGBoost.pickle', 'rb') as file:\n",
    "    opt_model= pickle.load(file)"
   ]
  },
  {
   "cell_type": "code",
   "execution_count": 10,
   "metadata": {},
   "outputs": [
    {
     "data": {
      "image/png": "[encoded data removed]",
      "text/plain": [
       "<Figure size 400x200 with 1 Axes>"
      ]
     },
     "metadata": {},
     "output_type": "display_data"
    },
    {
     "name": "stdout",
     "output_type": "stream",
     "text": [
      "Top 1: Iteration 37, Score 0.01617560466748359\n",
      "Top 2: Iteration 32, Score 0.016003208153034475\n",
      "Top 3: Iteration 43, Score 0.014745396247392106\n",
      "Top 4: Iteration 23, Score 0.014553655423730716\n",
      "Top 5: Iteration 44, Score 0.013275422542982506\n",
      "Top 6: Iteration 27, Score 0.012373695266765428\n",
      "Top 7: Iteration 50, Score 0.011384389166134578\n",
      "Top 8: Iteration 18, Score 0.010135895458161449\n",
      "Top 9: Iteration 30, Score 0.00991342330272581\n",
      "Top 10: Iteration 42, Score 0.00951824266229927\n"
     ]
    }
   ],
   "source": [
    "score = opt_model.cv_results_['mean_test_score'][:50]\n",
    "Plotters.plot_iteration(y=score, title='BayesSearch', xlabel='Iteration', ylabel='score', legend_result=False, best_result=True, y_size=2, font='Times New Roman', weight='normal', mode=2, band_width=0.015)"
   ]
  },
  {
   "cell_type": "code",
   "execution_count": 11,
   "metadata": {},
   "outputs": [
    {
     "data": {
      "text/plain": [
       "[{'colsample_bytree': 0.1,\n",
       "  'learning_rate': 0.0007733650293011783,\n",
       "  'max_depth': 10,\n",
       "  'n_estimators': 5000,\n",
       "  'subsample': 0.5166063811507885},\n",
       " {'colsample_bytree': 0.1,\n",
       "  'learning_rate': 0.0007041994417209698,\n",
       "  'max_depth': 6,\n",
       "  'n_estimators': 5000,\n",
       "  'subsample': 0.4534949420761164},\n",
       " {'colsample_bytree': 0.1,\n",
       "  'learning_rate': 0.0005158317903743907,\n",
       "  'max_depth': 10,\n",
       "  'n_estimators': 5000,\n",
       "  'subsample': 0.6512927062422458},\n",
       " {'colsample_bytree': 0.1,\n",
       "  'learning_rate': 0.002571794444163138,\n",
       "  'max_depth': 10,\n",
       "  'n_estimators': 5000,\n",
       "  'subsample': 0.44046539450183597},\n",
       " {'colsample_bytree': 0.1,\n",
       "  'learning_rate': 0.0013508710467567888,\n",
       "  'max_depth': 10,\n",
       "  'n_estimators': 5000,\n",
       "  'subsample': 0.5880196851133342},\n",
       " {'colsample_bytree': 0.1,\n",
       "  'learning_rate': 0.000632589566247301,\n",
       "  'max_depth': 10,\n",
       "  'n_estimators': 5000,\n",
       "  'subsample': 0.6854458450504768},\n",
       " {'colsample_bytree': 0.1,\n",
       "  'learning_rate': 0.00036749281659180164,\n",
       "  'max_depth': 7,\n",
       "  'n_estimators': 5000,\n",
       "  'subsample': 0.7770584690347866},\n",
       " {'colsample_bytree': 0.1,\n",
       "  'learning_rate': 0.0003020272156047002,\n",
       "  'max_depth': 10,\n",
       "  'n_estimators': 5000,\n",
       "  'subsample': 1.0},\n",
       " {'colsample_bytree': 0.1,\n",
       "  'learning_rate': 0.008934156636564605,\n",
       "  'max_depth': 10,\n",
       "  'n_estimators': 5000,\n",
       "  'subsample': 1.0},\n",
       " {'colsample_bytree': 0.1,\n",
       "  'learning_rate': 0.009374425402608012,\n",
       "  'max_depth': 10,\n",
       "  'n_estimators': 5000,\n",
       "  'subsample': 0.7278816007023733}]"
      ]
     },
     "execution_count": 11,
     "metadata": {},
     "output_type": "execute_result"
    }
   ],
   "source": [
    "best_params_ = model.best_hyper(num_best=10, opt_model=opt_model, num_max=50)\n",
    "best_params_"
   ]
  },
  {
   "cell_type": "markdown",
   "metadata": {},
   "source": [
    "# Training"
   ]
  },
  {
   "cell_type": "code",
   "execution_count": 12,
   "metadata": {},
   "outputs": [
    {
     "name": "stderr",
     "output_type": "stream",
     "text": [
      "C:\\Users/felipe/Documents/Brain/Brain_Model\\base_regressor.py:200: FutureWarning: The behavior of DataFrame concatenation with empty or all-NA entries is deprecated. In a future version, this will no longer exclude empty or all-NA columns when determining the result dtypes. To retain the old behavior, exclude the relevant entries before the concat operation.\n",
      "  results_labels_df_CN_train = pd.concat([results_labels_df_CN_train, temp_CN_df_train], ignore_index=True)\n",
      "C:\\Users/felipe/Documents/Brain/Brain_Model\\base_regressor.py:202: FutureWarning: The behavior of DataFrame concatenation with empty or all-NA entries is deprecated. In a future version, this will no longer exclude empty or all-NA columns when determining the result dtypes. To retain the old behavior, exclude the relevant entries before the concat operation.\n",
      "  results_labels_df_CN_test = pd.concat([results_labels_df_CN_test, temp_CN_df_test], ignore_index=True)\n",
      "C:\\Users/felipe/Documents/Brain/Brain_Model\\base_regressor.py:234: FutureWarning: The behavior of DataFrame concatenation with empty or all-NA entries is deprecated. In a future version, this will no longer exclude empty or all-NA columns when determining the result dtypes. To retain the old behavior, exclude the relevant entries before the concat operation.\n",
      "  results_labels_list[j] = pd.concat([results_labels_list[j], temp_pat_df], ignore_index=True)\n",
      "C:\\Users/felipe/Documents/Brain/Brain_Model\\base_regressor.py:234: FutureWarning: The behavior of DataFrame concatenation with empty or all-NA entries is deprecated. In a future version, this will no longer exclude empty or all-NA columns when determining the result dtypes. To retain the old behavior, exclude the relevant entries before the concat operation.\n",
      "  results_labels_list[j] = pd.concat([results_labels_list[j], temp_pat_df], ignore_index=True)\n",
      "C:\\Users/felipe/Documents/Brain/Brain_Model\\base_regressor.py:234: FutureWarning: The behavior of DataFrame concatenation with empty or all-NA entries is deprecated. In a future version, this will no longer exclude empty or all-NA columns when determining the result dtypes. To retain the old behavior, exclude the relevant entries before the concat operation.\n",
      "  results_labels_list[j] = pd.concat([results_labels_list[j], temp_pat_df], ignore_index=True)\n",
      "C:\\Users/felipe/Documents/Brain/Brain_Model\\base_regressor.py:234: FutureWarning: The behavior of DataFrame concatenation with empty or all-NA entries is deprecated. In a future version, this will no longer exclude empty or all-NA columns when determining the result dtypes. To retain the old behavior, exclude the relevant entries before the concat operation.\n",
      "  results_labels_list[j] = pd.concat([results_labels_list[j], temp_pat_df], ignore_index=True)\n"
     ]
    }
   ],
   "source": [
    "results_labels_df_CN_train, results_labels_df_CN_test, results_labels_list, results_model, results_per_fold_CN_train, results_per_fold_CN_test, results_per_fold_pat= model.trainer(df_concatenado_CN, lista_dfs, n_splits=10, n_iterations=20, params_=best_params_[0])"
   ]
  },
  {
   "cell_type": "code",
   "execution_count": null,
   "metadata": {},
   "outputs": [],
   "source": [
    "import pickle\n",
    "\n",
    "results_training = [results_labels_df_CN_train, results_labels_df_CN_test, results_labels_list, \n",
    "           results_model, results_per_fold_CN_train, results_per_fold_CN_test, results_per_fold_pat]\n",
    "\n",
    "with open('results_model/resultados_modelo.pkl', 'wb') as f:\n",
    "    pickle.dump(results_training, f)"
   ]
  },
  {
   "cell_type": "code",
   "execution_count": null,
   "metadata": {},
   "outputs": [],
   "source": [
    "with open('results_model/resultados_modelo.pkl', 'rb') as f:\n",
    "    loaded_results = pickle.load(f)\n",
    "\n",
    "results_labels_df_CN_train, results_labels_df_CN_test, results_labels_list, results_model, results_per_fold_CN_train, results_per_fold_CN_test, results_per_fold_pat = loaded_results"
   ]
  },
  {
   "cell_type": "code",
   "execution_count": null,
   "metadata": {},
   "outputs": [],
   "source": [
    "results_labels_df_AD=results_labels_list[0]\n",
    "results_labels_df_FTD=results_labels_list[1]\n",
    "results_labels_df_MCI=results_labels_list[2]\n",
    "results_labels_df_PD=results_labels_list[3]\n",
    "\n",
    "results_labels_df_total = [results_labels_df_CN_test, results_labels_df_AD, results_labels_df_FTD,results_labels_df_MCI,results_labels_df_PD]\n",
    "\n",
    "results_avg_list = model.avg_list(results_labels_df_total)\n",
    "\n",
    "results_avg_list_CN = results_avg_list[0]\n",
    "results_avg_list_AD = results_avg_list[1]\n",
    "results_avg_list_FTD = results_avg_list[2]\n",
    "results_avg_list_MCI = results_avg_list[3]\n",
    "results_avg_list_PD = results_avg_list[4]\n",
    "\n",
    "df_CN_seleccion = df_CN_filtrado[['ID-unique', 'Country_ID', 'Age', 'Sex', 'Educ', 'MMSE', 'HDI', 'GINI', 'ODQ']]\n",
    "df_CN_combined = results_avg_list_CN.merge(df_CN_seleccion, on='ID-unique', how='left')\n",
    "\n",
    "df_AD_seleccion = df_AD_filtrado[['ID-unique', 'Country_ID', 'Age', 'Sex', 'Educ', 'MMSE',  'GINI', 'ODQ']]\n",
    "df_AD_combined = results_avg_list_AD.merge(df_AD_seleccion, on='ID-unique', how='left')\n",
    "\n",
    "df_FTD_seleccion = df_FTD_filtrado[['ID-unique', 'Country_ID', 'Age', 'Sex', 'Educ', 'MMSE', 'GINI', 'ODQ']]\n",
    "df_FTD_combined = results_avg_list_CN.merge(df_FTD_seleccion, on='ID-unique', how='left')\n",
    "\n",
    "df_MCI_seleccion = df_MCI_filtrado[['ID-unique', 'Country_ID', 'Age', 'Sex', 'Educ', 'MMSE',  'GINI', 'ODQ']]\n",
    "df_MCI_combined = results_avg_list_MCI.merge(df_MCI_seleccion, on='ID-unique', how='left')\n",
    "\n",
    "df_PD_seleccion = df_PD_filtrado[['ID-unique', 'Country_ID', 'Age', 'Sex', 'Educ', 'MMSE',  'GINI', 'ODQ']]\n",
    "df_PD_combined = results_avg_list_PD.merge(df_PD_seleccion, on='ID-unique', how='left')\n"
   ]
  },
  {
   "cell_type": "code",
   "execution_count": null,
   "metadata": {},
   "outputs": [],
   "source": [
    "# Guardar los dataframes combinados en archivos Excel\n",
    "df_CN_combined.to_excel('results/df_CN_combined.xlsx', index=False)\n",
    "df_AD_combined.to_excel('results/df_AD_combined.xlsx', index=False)\n",
    "df_FTD_combined.to_excel('results/df_FTD_combined.xlsx', index=False)\n",
    "df_MCI_combined.to_excel('results/df_MCI_combined.xlsx', index=False)\n",
    "df_PD_combined.to_excel('results/df_PD_combined.xlsx', index=False)\n"
   ]
  },
  {
   "cell_type": "code",
   "execution_count": null,
   "metadata": {},
   "outputs": [],
   "source": [
    "# Crear un DataFrame en formato largo para los errores\n",
    "corrected_gap_AD = pd.to_numeric(results_avg_list[1]['GAP_corrected'])\n",
    "corrected_gap_FTD = pd.to_numeric(results_avg_list[2]['GAP_corrected'])\n",
    "corrected_gap_MCI = pd.to_numeric(results_avg_list[3]['GAP_corrected'])\n",
    "corrected_gap_CN_test = pd.to_numeric(results_avg_list[0]['GAP_corrected'])\n",
    "corrected_gap_PD = pd.to_numeric(results_avg_list[4]['GAP_corrected'])\n",
    "\n",
    "data = {\n",
    "    'Error': np.concatenate([corrected_gap_PD, corrected_gap_AD, corrected_gap_FTD, corrected_gap_MCI, corrected_gap_CN_test]),\n",
    "    'Grupo': ['PD'] * len(corrected_gap_PD) + ['AD'] * len(corrected_gap_AD) + ['FTD'] * len(corrected_gap_FTD) + ['MCI'] * len(corrected_gap_MCI) + ['CN'] * len(corrected_gap_CN_test)\n",
    "}\n",
    "\n",
    "df_errors = pd.DataFrame(data)\n",
    "\n",
    "# Definir la paleta de colores personalizada\n",
    "colores_personalizados = {\n",
    "    'AD': 'skyblue',\n",
    "    'FTD': 'red',\n",
    "    'MCI': 'lightgreen',\n",
    "    'PD': 'orange',\n",
    "    'CN': 'gray'\n",
    "}\n",
    "\n",
    "Plotters.plot_gap_distribution(df_errors, colores_personalizados,x_size=6, y_size=3,font='Times New Roman', weight='normal', xlabel='Gap (years)', x_limits=(-3, 4),fontsize=14)"
   ]
  },
  {
   "cell_type": "code",
   "execution_count": null,
   "metadata": {},
   "outputs": [],
   "source": [
    "results_avg_CN = results_avg_list[0][['y_labels', 'y_pred']].copy()\n",
    "results_avg_AD = results_avg_list[1][['y_labels', 'y_pred']].copy()\n",
    "results_avg_FTD     = results_avg_list[2][['y_labels', 'y_pred']].copy()\n",
    "results_avg_MCI = results_avg_list[3][['y_labels', 'y_pred']].copy()\n",
    "results_avg_PD = results_avg_list[4][['y_labels', 'y_pred']].copy()\n",
    "\n",
    "df_list = [results_avg_CN, results_avg_AD, results_avg_FTD, results_avg_MCI, results_avg_PD]\n",
    "colors = {'CN': 'black', 'AD': 'blue', 'FTD': 'red', 'MCI': 'green', 'PD': 'orange'}\n",
    "labels = ['CN', 'AD', 'FTD', 'MCI', 'PD']\n",
    "Plotters.plot_regression_diagnosis(df_list=df_list, colors=colors, title='Brain Age Comparison',labels=labels,x_ticks_step=10,y_ticks_step=2,x_min_limit=50,y_min_limit=62,x_max_limit=90,y_max_limit=72,line_ideal=False, alpha=0.5, xlabel='Chronological Age',ylabel='Brain Age',  font='Times New Roman', weight='normal', x_size=4,y_size=4, legend=True, fontsize=13, mode=3,xticks =1,yticks=1)"
   ]
  },
  {
   "cell_type": "code",
   "execution_count": null,
   "metadata": {},
   "outputs": [],
   "source": [
    "# SHAP"
   ]
  }
 ],
 "metadata": {
  "kernelspec": {
   "display_name": "brain_age_env",
   "language": "python",
   "name": "python3"
  },
  "language_info": {
   "codemirror_mode": {
    "name": "ipython",
    "version": 3
   },
   "file_extension": ".py",
   "mimetype": "text/x-python",
   "name": "python",
   "nbconvert_exporter": "python",
   "pygments_lexer": "ipython3",
   "version": "3.12.4"
  }
 },
 "nbformat": 4,
 "nbformat_minor": 2
}
